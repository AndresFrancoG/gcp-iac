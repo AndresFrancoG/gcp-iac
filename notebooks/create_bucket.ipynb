{
 "cells": [
  {
   "cell_type": "code",
   "execution_count": 8,
   "metadata": {
    "tags": [
     "parameters"
    ]
   },
   "outputs": [],
   "source": [
    "# Parameters for automatic testing\n",
    "kedro_env = 'base'"
   ]
  },
  {
   "cell_type": "code",
   "execution_count": 9,
   "metadata": {},
   "outputs": [],
   "source": [
    "relative_project_path = \"..//\""
   ]
  },
  {
   "attachments": {},
   "cell_type": "markdown",
   "metadata": {},
   "source": [
    "## Loads kedro yml data"
   ]
  },
  {
   "cell_type": "code",
   "execution_count": 10,
   "metadata": {},
   "outputs": [
    {
     "data": {
      "text/html": [
       "<pre style=\"white-space:pre;overflow-x:auto;line-height:normal;font-family:Menlo,'DejaVu Sans Mono',consolas,'Courier New',monospace\"><span style=\"color: #7fbfbf; text-decoration-color: #7fbfbf\">[05/31/23 10:01:57] </span><span style=\"color: #800000; text-decoration-color: #800000\">WARNING </span> <span style=\"color: #800080; text-decoration-color: #800080\">/home/anfef/Codes/2023/IaC/gcp-iac/.venv/lib/python3.10/site-packages/</span> <a href=\"file:///usr/lib/python3.10/warnings.py\" target=\"_blank\"><span style=\"color: #7f7f7f; text-decoration-color: #7f7f7f\">warnings.py</span></a><span style=\"color: #7f7f7f; text-decoration-color: #7f7f7f\">:</span><a href=\"file:///usr/lib/python3.10/warnings.py#109\" target=\"_blank\"><span style=\"color: #7f7f7f; text-decoration-color: #7f7f7f\">109</span></a>\n",
       "<span style=\"color: #7fbfbf; text-decoration-color: #7fbfbf\">                    </span>         <span style=\"color: #800080; text-decoration-color: #800080\">kedro/config/</span><span style=\"color: #ff00ff; text-decoration-color: #ff00ff\">common.py</span>:<span style=\"color: #008080; text-decoration-color: #008080; font-weight: bold\">215</span>: UserWarning: Duplicate environment         <span style=\"color: #7f7f7f; text-decoration-color: #7f7f7f\">               </span>\n",
       "<span style=\"color: #7fbfbf; text-decoration-color: #7fbfbf\">                    </span>         detected! Skipping re-loading from configuration path: ..<span style=\"color: #800080; text-decoration-color: #800080\">/conf/</span><span style=\"color: #ff00ff; text-decoration-color: #ff00ff\">base</span>    <span style=\"color: #7f7f7f; text-decoration-color: #7f7f7f\">               </span>\n",
       "<span style=\"color: #7fbfbf; text-decoration-color: #7fbfbf\">                    </span>           <span style=\"color: #800080; text-decoration-color: #800080; font-weight: bold\">warn</span><span style=\"font-weight: bold\">(</span>                                                                <span style=\"color: #7f7f7f; text-decoration-color: #7f7f7f\">               </span>\n",
       "<span style=\"color: #7fbfbf; text-decoration-color: #7fbfbf\">                    </span>                                                                                <span style=\"color: #7f7f7f; text-decoration-color: #7f7f7f\">               </span>\n",
       "</pre>\n"
      ],
      "text/plain": [
       "\u001b[2;36m[05/31/23 10:01:57]\u001b[0m\u001b[2;36m \u001b[0m\u001b[31mWARNING \u001b[0m \u001b[35m/home/anfef/Codes/2023/IaC/gcp-iac/.venv/lib/python3.10/site-packages/\u001b[0m \u001b]8;id=755569;file:///usr/lib/python3.10/warnings.py\u001b\\\u001b[2mwarnings.py\u001b[0m\u001b]8;;\u001b\\\u001b[2m:\u001b[0m\u001b]8;id=443999;file:///usr/lib/python3.10/warnings.py#109\u001b\\\u001b[2m109\u001b[0m\u001b]8;;\u001b\\\n",
       "\u001b[2;36m                    \u001b[0m         \u001b[35mkedro/config/\u001b[0m\u001b[95mcommon.py\u001b[0m:\u001b[1;36m215\u001b[0m: UserWarning: Duplicate environment         \u001b[2m               \u001b[0m\n",
       "\u001b[2;36m                    \u001b[0m         detected! Skipping re-loading from configuration path: ..\u001b[35m/conf/\u001b[0m\u001b[95mbase\u001b[0m    \u001b[2m               \u001b[0m\n",
       "\u001b[2;36m                    \u001b[0m           \u001b[1;35mwarn\u001b[0m\u001b[1m(\u001b[0m                                                                \u001b[2m               \u001b[0m\n",
       "\u001b[2;36m                    \u001b[0m                                                                                \u001b[2m               \u001b[0m\n"
      ]
     },
     "metadata": {},
     "output_type": "display_data"
    }
   ],
   "source": [
    "from kedro.config import ConfigLoader\n",
    "from kedro.framework.project import settings\n",
    "\n",
    "conf_path = str(relative_project_path + settings.CONF_SOURCE)\n",
    "conf_loader = ConfigLoader(conf_source=conf_path, env=kedro_env)\n",
    "parameters = conf_loader['parameters']"
   ]
  },
  {
   "cell_type": "code",
   "execution_count": 11,
   "metadata": {},
   "outputs": [],
   "source": [
    "gcp_params = parameters['gcp']\n",
    "\n",
    "params_bucket_entry = 'bucket'\n",
    "project_id = gcp_params['project_id']\n",
    "bucket_name = gcp_params[params_bucket_entry]['name']\n",
    "bucket_location = gcp_params[params_bucket_entry]['location']\n",
    "blobs = gcp_params[params_bucket_entry]['blobs']"
   ]
  },
  {
   "attachments": {},
   "cell_type": "markdown",
   "metadata": {},
   "source": [
    "## Creates bucket"
   ]
  },
  {
   "cell_type": "code",
   "execution_count": 5,
   "metadata": {},
   "outputs": [
    {
     "data": {
      "text/html": [
       "<pre style=\"white-space:pre;overflow-x:auto;line-height:normal;font-family:Menlo,'DejaVu Sans Mono',consolas,'Courier New',monospace\"><span style=\"color: #7fbfbf; text-decoration-color: #7fbfbf\">[05/31/23 09:54:42] </span><span style=\"color: #800000; text-decoration-color: #800000\">WARNING </span> <span style=\"color: #800080; text-decoration-color: #800080\">/home/anfef/Codes/2023/IaC/gcp-iac/.venv/lib/python3.10/site-packages/</span> <a href=\"file:///usr/lib/python3.10/warnings.py\" target=\"_blank\"><span style=\"color: #7f7f7f; text-decoration-color: #7f7f7f\">warnings.py</span></a><span style=\"color: #7f7f7f; text-decoration-color: #7f7f7f\">:</span><a href=\"file:///usr/lib/python3.10/warnings.py#109\" target=\"_blank\"><span style=\"color: #7f7f7f; text-decoration-color: #7f7f7f\">109</span></a>\n",
       "<span style=\"color: #7fbfbf; text-decoration-color: #7fbfbf\">                    </span>         <span style=\"color: #800080; text-decoration-color: #800080\">google/rpc/</span><span style=\"color: #ff00ff; text-decoration-color: #ff00ff\">__init__.py</span>:<span style=\"color: #008080; text-decoration-color: #008080; font-weight: bold\">20</span>: DeprecationWarning: Deprecated call to      <span style=\"color: #7f7f7f; text-decoration-color: #7f7f7f\">               </span>\n",
       "<span style=\"color: #7fbfbf; text-decoration-color: #7fbfbf\">                    </span>         `<span style=\"color: #800080; text-decoration-color: #800080; font-weight: bold\">pkg_resources.declare_namespace</span><span style=\"font-weight: bold\">(</span><span style=\"color: #008000; text-decoration-color: #008000\">'google.rpc'</span><span style=\"font-weight: bold\">)</span>`.                       <span style=\"color: #7f7f7f; text-decoration-color: #7f7f7f\">               </span>\n",
       "<span style=\"color: #7fbfbf; text-decoration-color: #7fbfbf\">                    </span>         Implementing implicit namespace packages <span style=\"font-weight: bold\">(</span>as specified in PEP <span style=\"color: #008080; text-decoration-color: #008080; font-weight: bold\">420</span><span style=\"font-weight: bold\">)</span> is  <span style=\"color: #7f7f7f; text-decoration-color: #7f7f7f\">               </span>\n",
       "<span style=\"color: #7fbfbf; text-decoration-color: #7fbfbf\">                    </span>         preferred to `pkg_resources.declare_namespace`. See                    <span style=\"color: #7f7f7f; text-decoration-color: #7f7f7f\">               </span>\n",
       "<span style=\"color: #7fbfbf; text-decoration-color: #7fbfbf\">                    </span>         <span style=\"color: #0000ff; text-decoration-color: #0000ff; text-decoration: underline\">https://setuptools.pypa.io/en/latest/references/keywords.html#keyword-</span> <span style=\"color: #7f7f7f; text-decoration-color: #7f7f7f\">               </span>\n",
       "<span style=\"color: #7fbfbf; text-decoration-color: #7fbfbf\">                    </span>         <span style=\"color: #0000ff; text-decoration-color: #0000ff; text-decoration: underline\">namespace-packages</span>                                                     <span style=\"color: #7f7f7f; text-decoration-color: #7f7f7f\">               </span>\n",
       "<span style=\"color: #7fbfbf; text-decoration-color: #7fbfbf\">                    </span>           <span style=\"color: #800080; text-decoration-color: #800080; font-weight: bold\">pkg_resources.declare_namespace</span><span style=\"font-weight: bold\">(</span>__name__<span style=\"font-weight: bold\">)</span>                            <span style=\"color: #7f7f7f; text-decoration-color: #7f7f7f\">               </span>\n",
       "<span style=\"color: #7fbfbf; text-decoration-color: #7fbfbf\">                    </span>                                                                                <span style=\"color: #7f7f7f; text-decoration-color: #7f7f7f\">               </span>\n",
       "</pre>\n"
      ],
      "text/plain": [
       "\u001b[2;36m[05/31/23 09:54:42]\u001b[0m\u001b[2;36m \u001b[0m\u001b[31mWARNING \u001b[0m \u001b[35m/home/anfef/Codes/2023/IaC/gcp-iac/.venv/lib/python3.10/site-packages/\u001b[0m \u001b]8;id=709787;file:///usr/lib/python3.10/warnings.py\u001b\\\u001b[2mwarnings.py\u001b[0m\u001b]8;;\u001b\\\u001b[2m:\u001b[0m\u001b]8;id=418931;file:///usr/lib/python3.10/warnings.py#109\u001b\\\u001b[2m109\u001b[0m\u001b]8;;\u001b\\\n",
       "\u001b[2;36m                    \u001b[0m         \u001b[35mgoogle/rpc/\u001b[0m\u001b[95m__init__.py\u001b[0m:\u001b[1;36m20\u001b[0m: DeprecationWarning: Deprecated call to      \u001b[2m               \u001b[0m\n",
       "\u001b[2;36m                    \u001b[0m         `\u001b[1;35mpkg_resources.declare_namespace\u001b[0m\u001b[1m(\u001b[0m\u001b[32m'google.rpc'\u001b[0m\u001b[1m)\u001b[0m`.                       \u001b[2m               \u001b[0m\n",
       "\u001b[2;36m                    \u001b[0m         Implementing implicit namespace packages \u001b[1m(\u001b[0mas specified in PEP \u001b[1;36m420\u001b[0m\u001b[1m)\u001b[0m is  \u001b[2m               \u001b[0m\n",
       "\u001b[2;36m                    \u001b[0m         preferred to `pkg_resources.declare_namespace`. See                    \u001b[2m               \u001b[0m\n",
       "\u001b[2;36m                    \u001b[0m         \u001b[4;94mhttps://setuptools.pypa.io/en/latest/references/keywords.html#keyword-\u001b[0m \u001b[2m               \u001b[0m\n",
       "\u001b[2;36m                    \u001b[0m         \u001b[4;94mnamespace-packages\u001b[0m                                                     \u001b[2m               \u001b[0m\n",
       "\u001b[2;36m                    \u001b[0m           \u001b[1;35mpkg_resources.declare_namespace\u001b[0m\u001b[1m(\u001b[0m__name__\u001b[1m)\u001b[0m                            \u001b[2m               \u001b[0m\n",
       "\u001b[2;36m                    \u001b[0m                                                                                \u001b[2m               \u001b[0m\n"
      ]
     },
     "metadata": {},
     "output_type": "display_data"
    },
    {
     "data": {
      "text/html": [
       "<pre style=\"white-space:pre;overflow-x:auto;line-height:normal;font-family:Menlo,'DejaVu Sans Mono',consolas,'Courier New',monospace\"><span style=\"color: #7fbfbf; text-decoration-color: #7fbfbf\">                    </span><span style=\"color: #800000; text-decoration-color: #800000\">WARNING </span> <span style=\"color: #800080; text-decoration-color: #800080\">/home/anfef/Codes/2023/IaC/gcp-iac/.venv/lib/python3.10/site-packages/</span> <a href=\"file:///usr/lib/python3.10/warnings.py\" target=\"_blank\"><span style=\"color: #7f7f7f; text-decoration-color: #7f7f7f\">warnings.py</span></a><span style=\"color: #7f7f7f; text-decoration-color: #7f7f7f\">:</span><a href=\"file:///usr/lib/python3.10/warnings.py#109\" target=\"_blank\"><span style=\"color: #7f7f7f; text-decoration-color: #7f7f7f\">109</span></a>\n",
       "<span style=\"color: #7fbfbf; text-decoration-color: #7fbfbf\">                    </span>         <span style=\"color: #800080; text-decoration-color: #800080\">pkg_resources/</span><span style=\"color: #ff00ff; text-decoration-color: #ff00ff\">__init__.py</span>:<span style=\"color: #008080; text-decoration-color: #008080; font-weight: bold\">2349</span>: DeprecationWarning: Deprecated call to <span style=\"color: #7f7f7f; text-decoration-color: #7f7f7f\">               </span>\n",
       "<span style=\"color: #7fbfbf; text-decoration-color: #7fbfbf\">                    </span>         `<span style=\"color: #800080; text-decoration-color: #800080; font-weight: bold\">pkg_resources.declare_namespace</span><span style=\"font-weight: bold\">(</span><span style=\"color: #008000; text-decoration-color: #008000\">'google'</span><span style=\"font-weight: bold\">)</span>`.                           <span style=\"color: #7f7f7f; text-decoration-color: #7f7f7f\">               </span>\n",
       "<span style=\"color: #7fbfbf; text-decoration-color: #7fbfbf\">                    </span>         Implementing implicit namespace packages <span style=\"font-weight: bold\">(</span>as specified in PEP <span style=\"color: #008080; text-decoration-color: #008080; font-weight: bold\">420</span><span style=\"font-weight: bold\">)</span> is  <span style=\"color: #7f7f7f; text-decoration-color: #7f7f7f\">               </span>\n",
       "<span style=\"color: #7fbfbf; text-decoration-color: #7fbfbf\">                    </span>         preferred to `pkg_resources.declare_namespace`. See                    <span style=\"color: #7f7f7f; text-decoration-color: #7f7f7f\">               </span>\n",
       "<span style=\"color: #7fbfbf; text-decoration-color: #7fbfbf\">                    </span>         <span style=\"color: #0000ff; text-decoration-color: #0000ff; text-decoration: underline\">https://setuptools.pypa.io/en/latest/references/keywords.html#keyword-</span> <span style=\"color: #7f7f7f; text-decoration-color: #7f7f7f\">               </span>\n",
       "<span style=\"color: #7fbfbf; text-decoration-color: #7fbfbf\">                    </span>         <span style=\"color: #0000ff; text-decoration-color: #0000ff; text-decoration: underline\">namespace-packages</span>                                                     <span style=\"color: #7f7f7f; text-decoration-color: #7f7f7f\">               </span>\n",
       "<span style=\"color: #7fbfbf; text-decoration-color: #7fbfbf\">                    </span>           <span style=\"color: #800080; text-decoration-color: #800080; font-weight: bold\">declare_namespace</span><span style=\"font-weight: bold\">(</span>parent<span style=\"font-weight: bold\">)</span>                                            <span style=\"color: #7f7f7f; text-decoration-color: #7f7f7f\">               </span>\n",
       "<span style=\"color: #7fbfbf; text-decoration-color: #7fbfbf\">                    </span>                                                                                <span style=\"color: #7f7f7f; text-decoration-color: #7f7f7f\">               </span>\n",
       "</pre>\n"
      ],
      "text/plain": [
       "\u001b[2;36m                   \u001b[0m\u001b[2;36m \u001b[0m\u001b[31mWARNING \u001b[0m \u001b[35m/home/anfef/Codes/2023/IaC/gcp-iac/.venv/lib/python3.10/site-packages/\u001b[0m \u001b]8;id=164998;file:///usr/lib/python3.10/warnings.py\u001b\\\u001b[2mwarnings.py\u001b[0m\u001b]8;;\u001b\\\u001b[2m:\u001b[0m\u001b]8;id=322713;file:///usr/lib/python3.10/warnings.py#109\u001b\\\u001b[2m109\u001b[0m\u001b]8;;\u001b\\\n",
       "\u001b[2;36m                    \u001b[0m         \u001b[35mpkg_resources/\u001b[0m\u001b[95m__init__.py\u001b[0m:\u001b[1;36m2349\u001b[0m: DeprecationWarning: Deprecated call to \u001b[2m               \u001b[0m\n",
       "\u001b[2;36m                    \u001b[0m         `\u001b[1;35mpkg_resources.declare_namespace\u001b[0m\u001b[1m(\u001b[0m\u001b[32m'google'\u001b[0m\u001b[1m)\u001b[0m`.                           \u001b[2m               \u001b[0m\n",
       "\u001b[2;36m                    \u001b[0m         Implementing implicit namespace packages \u001b[1m(\u001b[0mas specified in PEP \u001b[1;36m420\u001b[0m\u001b[1m)\u001b[0m is  \u001b[2m               \u001b[0m\n",
       "\u001b[2;36m                    \u001b[0m         preferred to `pkg_resources.declare_namespace`. See                    \u001b[2m               \u001b[0m\n",
       "\u001b[2;36m                    \u001b[0m         \u001b[4;94mhttps://setuptools.pypa.io/en/latest/references/keywords.html#keyword-\u001b[0m \u001b[2m               \u001b[0m\n",
       "\u001b[2;36m                    \u001b[0m         \u001b[4;94mnamespace-packages\u001b[0m                                                     \u001b[2m               \u001b[0m\n",
       "\u001b[2;36m                    \u001b[0m           \u001b[1;35mdeclare_namespace\u001b[0m\u001b[1m(\u001b[0mparent\u001b[1m)\u001b[0m                                            \u001b[2m               \u001b[0m\n",
       "\u001b[2;36m                    \u001b[0m                                                                                \u001b[2m               \u001b[0m\n"
      ]
     },
     "metadata": {},
     "output_type": "display_data"
    },
    {
     "name": "stdout",
     "output_type": "stream",
     "text": [
      "Bucket bigqueryspecies-container-bucket created.\n"
     ]
    }
   ],
   "source": [
    "# from google.cloud import storage\n",
    "\n",
    "# def create_bucket(project_id, bucket_name, bucket_location):\n",
    "#     storage_client = storage.Client(project_id)\n",
    "#     bucket = storage_client.bucket(bucket_name)\n",
    "#     bucket = storage_client.create_bucket(bucket, location = bucket_location)\n",
    "#     print(\"Bucket {} created.\".format(bucket.name))\n",
    "\n",
    "# # Call the function\n",
    "# create_bucket(project_id, bucket_name, bucket_location)"
   ]
  },
  {
   "attachments": {},
   "cell_type": "markdown",
   "metadata": {},
   "source": [
    "## Creates blob in bucket"
   ]
  },
  {
   "cell_type": "code",
   "execution_count": 12,
   "metadata": {},
   "outputs": [
    {
     "name": "stdout",
     "output_type": "stream",
     "text": [
      "Blob kedro_container created in bucket bigqueryspecies-container-bucket.\n"
     ]
    }
   ],
   "source": [
    "# from google.cloud import storage\n",
    "\n",
    "# def create_blob(bucket_name, blob_name):\n",
    "#     storage_client = storage.Client()\n",
    "#     bucket = storage_client.get_bucket(bucket_name)\n",
    "#     blob = bucket.blob(blob_name)\n",
    "#     print(f\"Blob {blob_name} created in bucket {bucket_name}.\")\n",
    "\n",
    "# # Call the function\n",
    "# for blob in blobs:\n",
    "#     create_blob(bucket_name, blob)"
   ]
  },
  {
   "cell_type": "code",
   "execution_count": null,
   "metadata": {},
   "outputs": [],
   "source": []
  }
 ],
 "metadata": {
  "kernelspec": {
   "display_name": ".venv",
   "language": "python",
   "name": "python3"
  },
  "language_info": {
   "codemirror_mode": {
    "name": "ipython",
    "version": 3
   },
   "file_extension": ".py",
   "mimetype": "text/x-python",
   "name": "python",
   "nbconvert_exporter": "python",
   "pygments_lexer": "ipython3",
   "version": "3.10.6"
  },
  "orig_nbformat": 4
 },
 "nbformat": 4,
 "nbformat_minor": 2
}
